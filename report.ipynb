{
 "cells": [
  {
   "cell_type": "markdown",
   "metadata": {},
   "source": [
    "**Problem and Solution:**"
   ]
  },
  {
   "cell_type": "markdown",
   "metadata": {},
   "source": [
    "England has a very unstable economic situation because of its decision to leave the European Union.\n",
    "In such a situation, making profitable decisions about buying (investing) real estate is very difficult and risky.\n",
    "We will try to create a system that can recommend us the most profitable and least risky proposal\n",
    "for investing in real estate, taking into account infrastructure."
   ]
  },
  {
   "cell_type": "markdown",
   "metadata": {},
   "source": [
    "**Section data:**"
   ]
  },
  {
   "cell_type": "markdown",
   "metadata": {},
   "source": [
    "We will use api foursquare for London and Land Registry Base (http://landregistry.data.gov.uk/).  \n",
    "``So we have:  \n",
    "Postcode  \n",
    "PAON Primary Addressable Object Name  \n",
    "Typically the house number or name  \n",
    "SAON Secondary Addressable Object Name  \n",
    "If there is a sub-building, for example  \n",
    "the building is divided into flats  \n",
    "there will be a SAON  \n",
    "Street  \n",
    "Locality  \n",
    "Town/City  \n",
    "District  \n",
    "County  \n",
    "API  \n",
    "Etc...  ``"
   ]
  }
 ],
 "metadata": {
  "kernelspec": {
   "display_name": "Python 3",
   "language": "python",
   "name": "python3"
  },
  "language_info": {
   "codemirror_mode": {
    "name": "ipython",
    "version": 3
   },
   "file_extension": ".py",
   "mimetype": "text/x-python",
   "name": "python",
   "nbconvert_exporter": "python",
   "pygments_lexer": "ipython3",
   "version": "3.7.6"
  }
 },
 "nbformat": 4,
 "nbformat_minor": 4
}
